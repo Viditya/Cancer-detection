{
 "cells": [
  {
   "cell_type": "code",
   "execution_count": 19,
   "id": "79ac9a79",
   "metadata": {},
   "outputs": [],
   "source": [
    "import numpy as np\n",
    "import tensorflow as tf\n",
    "from tensorflow.keras.applications.imagenet_utils import preprocess_input\n",
    "from tensorflow.keras.models import load_model\n",
    "from tensorflow.keras.preprocessing import image\n",
    "from baseModel import get_classes\n",
    "import itertools"
   ]
  },
  {
   "cell_type": "code",
   "execution_count": 2,
   "id": "54f6d2e9",
   "metadata": {},
   "outputs": [],
   "source": [
    "img_path = './uploads/ISIC_0000002.jpg'\n",
    "img = tf.keras.utils.load_img(img_path, color_mode='grayscale', target_size=(180, 180))"
   ]
  },
  {
   "cell_type": "code",
   "execution_count": 3,
   "id": "e96f37b7",
   "metadata": {},
   "outputs": [
    {
     "name": "stdout",
     "output_type": "stream",
     "text": [
      "Loading Model\n"
     ]
    },
    {
     "data": {
      "text/plain": [
       "<tensorflow.python.eager.polymorphic_function.polymorphic_function.Function at 0x7fd838467700>"
      ]
     },
     "execution_count": 3,
     "metadata": {},
     "output_type": "execute_result"
    }
   ],
   "source": [
    "model_path = 'skin_cancer_detection.h5'\n",
    "\n",
    "## Loading the model\n",
    "print('Loading Model')\n",
    "# model = tf.keras.applications.VGG19()\n",
    "model = load_model(model_path, compile=False)\n",
    "model.make_predict_function()\n"
   ]
  },
  {
   "cell_type": "code",
   "execution_count": null,
   "id": "70ae3d6a",
   "metadata": {},
   "outputs": [],
   "source": [
    "# model = tf.keras.applications.ResNet152V2(weights='imagenet')"
   ]
  },
  {
   "cell_type": "code",
   "execution_count": 9,
   "id": "5fab7814",
   "metadata": {},
   "outputs": [],
   "source": [
    "def model_predict(img_path, model):\n",
    "    img = image.load_img(img_path, target_size=(180, 180))\n",
    "    # Preprocessing the image\n",
    "    x = image.img_to_array(img)\n",
    "    # x = np.true_divide(x, 255)\n",
    "    x = np.expand_dims(x, axis=0)\n",
    "\n",
    "    x = preprocess_input(x)\n",
    "\n",
    "    preds = model.predict(x)\n",
    "    return preds"
   ]
  },
  {
   "cell_type": "code",
   "execution_count": 10,
   "id": "fc057d6c",
   "metadata": {},
   "outputs": [
    {
     "name": "stdout",
     "output_type": "stream",
     "text": [
      "1/1 [==============================] - 0s 28ms/step\n"
     ]
    }
   ],
   "source": [
    "pred = model_predict(img_path, model)"
   ]
  },
  {
   "cell_type": "code",
   "execution_count": 20,
   "id": "8b2c071a",
   "metadata": {},
   "outputs": [],
   "source": [
    "def decode_predictions(preds, top = 1):\n",
    "    if len(preds.shape) != 2 or preds.shape[1] != 9:\n",
    "        raise ValueError(\n",
    "            \"`decode_predictions` expects \"\n",
    "            \"a batch of predictions \"\n",
    "            \"(i.e. a 2D array of shape (samples, 9)). \"\n",
    "            \"Found array with shape: \" + str(preds.shape)\n",
    "        )\n",
    "    classes = get_classes()[0]\n",
    "    preds = preds[0]\n",
    "\n",
    "    # return classes\n",
    "\n",
    "    results = {}\n",
    "    for _class, _pred in zip(classes, preds):\n",
    "\n",
    "        results[_class] = _pred\n",
    "\n",
    "    sorted_list = sorted(results.items(),reverse = True, key = lambda x:x[1])\n",
    "    results.clear()\n",
    "    for key, value in sorted_list:\n",
    "        results[key] = value    \n",
    "    \n",
    "    results = dict(itertools.islice(results.items(), top))\n",
    "    \n",
    "    return results\n"
   ]
  },
  {
   "cell_type": "code",
   "execution_count": 21,
   "id": "9aa1179c",
   "metadata": {},
   "outputs": [
    {
     "name": "stdout",
     "output_type": "stream",
     "text": [
      "Found 3239 files belonging to 9 classes.\n",
      "Using 2592 files for training.\n",
      "Found 3239 files belonging to 9 classes.\n",
      "Using 647 files for validation.\n"
     ]
    }
   ],
   "source": [
    "result = decode_predictions(pred)"
   ]
  },
  {
   "cell_type": "code",
   "execution_count": 22,
   "id": "9cde294c",
   "metadata": {},
   "outputs": [
    {
     "data": {
      "text/plain": [
       "{'melanoma': 0.99817574,\n",
       " 'nevus': 0.0017201223,\n",
       " 'pigmented benign keratosis': 0.000104062536}"
      ]
     },
     "execution_count": 22,
     "metadata": {},
     "output_type": "execute_result"
    }
   ],
   "source": [
    "result"
   ]
  },
  {
   "cell_type": "code",
   "execution_count": null,
   "id": "4740fb3e",
   "metadata": {
    "scrolled": true
   },
   "outputs": [],
   "source": [
    "\n",
    "# Update the existing dictionary with sorted values\n",
    "sorted_list = sorted(result.items(),reverse = True, key = lambda x:x[1])\n",
    "result.clear()\n",
    "for key, value in sorted_list:\n",
    "    result[key] = value\n",
    "print(result)\n",
    "\n",
    "# Output:\n",
    "# {'kiwi': 4, 'Apple': 5, 'papaya': 6, 'strawberry': 10, 'pomegranate': 11}\n"
   ]
  },
  {
   "cell_type": "code",
   "execution_count": null,
   "id": "8200e987",
   "metadata": {},
   "outputs": [],
   "source": [
    "# Get first key-value pair of the dictionary\n",
    "first_pair = next(iter((result.items())))\n",
    "\n",
    "second_pair = next(iter((result.items())))\n",
    "\n",
    "third_pair = next(iter((result.items())))"
   ]
  },
  {
   "cell_type": "code",
   "execution_count": null,
   "id": "c189e133",
   "metadata": {},
   "outputs": [],
   "source": [
    "first_pair"
   ]
  },
  {
   "cell_type": "code",
   "execution_count": null,
   "id": "4bf15ac2",
   "metadata": {},
   "outputs": [],
   "source": []
  },
  {
   "cell_type": "code",
   "execution_count": null,
   "id": "dc284908",
   "metadata": {},
   "outputs": [],
   "source": [
    "pred = model_predict(img_path, model)\n",
    "pred_class = decode_predictions(pred, top=1)\n",
    "# li = []\n",
    "pred_class"
   ]
  },
  {
   "cell_type": "code",
   "execution_count": null,
   "id": "bb14d597",
   "metadata": {},
   "outputs": [],
   "source": [
    "li= []\n",
    "for label, percentage in pred_class.items():\n",
    "    li.append(f'{label.upper()} {percentage*100:.2f}')\n",
    "print(li)"
   ]
  },
  {
   "cell_type": "code",
   "execution_count": null,
   "id": "02d49163",
   "metadata": {},
   "outputs": [],
   "source": [
    "for item in first_pair:\n",
    "    print(item)\n",
    "#     print(item[0])\n",
    "#     print(item[1])\n",
    "    print(f'{item[.upper()} {item[1]*100:.2f}')"
   ]
  },
  {
   "cell_type": "code",
   "execution_count": null,
   "id": "0b31d4ac",
   "metadata": {},
   "outputs": [],
   "source": [
    "print(f'{first_pair[0].upper()} {first_pair[1]*100:.2f}')"
   ]
  },
  {
   "cell_type": "code",
   "execution_count": null,
   "id": "6a8b5b0a",
   "metadata": {},
   "outputs": [],
   "source": [
    "pred"
   ]
  },
  {
   "cell_type": "code",
   "execution_count": null,
   "id": "bc8abd80",
   "metadata": {},
   "outputs": [],
   "source": [
    "decode_predictions(pred)"
   ]
  },
  {
   "cell_type": "code",
   "execution_count": null,
   "id": "295848e7",
   "metadata": {},
   "outputs": [],
   "source": [
    "get_classes()[0]"
   ]
  },
  {
   "cell_type": "code",
   "execution_count": null,
   "id": "4bfae265",
   "metadata": {},
   "outputs": [],
   "source": [
    "classes =get_classes()[0]"
   ]
  },
  {
   "cell_type": "code",
   "execution_count": null,
   "id": "f8fef7c5",
   "metadata": {},
   "outputs": [],
   "source": [
    "classes"
   ]
  },
  {
   "cell_type": "code",
   "execution_count": null,
   "id": "4341e54f",
   "metadata": {},
   "outputs": [],
   "source": [
    "type(get_classes()[0])"
   ]
  },
  {
   "cell_type": "code",
   "execution_count": null,
   "id": "ae245c1d",
   "metadata": {},
   "outputs": [],
   "source": []
  }
 ],
 "metadata": {
  "kernelspec": {
   "display_name": "Python 3 (ipykernel)",
   "language": "python",
   "name": "python3"
  },
  "language_info": {
   "codemirror_mode": {
    "name": "ipython",
    "version": 3
   },
   "file_extension": ".py",
   "mimetype": "text/x-python",
   "name": "python",
   "nbconvert_exporter": "python",
   "pygments_lexer": "ipython3",
   "version": "3.10.6"
  }
 },
 "nbformat": 4,
 "nbformat_minor": 5
}
